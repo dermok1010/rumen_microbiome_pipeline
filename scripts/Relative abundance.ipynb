{
 "cells": [
  {
   "cell_type": "code",
   "execution_count": 31,
   "id": "37d46a14-18d5-4690-8683-2613e1bdbacc",
   "metadata": {},
   "outputs": [],
   "source": [
    "import pandas as pd\n",
    "import matplotlib.pyplot as plt"
   ]
  },
  {
   "cell_type": "code",
   "execution_count": 7,
   "id": "199e87b4-4f67-498d-993a-064c6c0e3821",
   "metadata": {
    "collapsed": true,
    "jupyter": {
     "outputs_hidden": true
    },
    "scrolled": true
   },
   "outputs": [
    {
     "data": {
      "text/plain": [
       "(                                  GoatKid01\n",
       " #OTU ID                                    \n",
       " bba114fa8ecf1399d60ae2868ce371d4       13.0\n",
       " d70918bdb1f2adac6b0b2e0d77a17ecf       11.0\n",
       " d605feb5d07be7e145e2e87d7f7710ea      103.0\n",
       " 03bb052674474c66386e7e1c33a0d3af      134.0\n",
       " 36cb66b957f4b86846bf3182e0c1dae2       32.0,\n",
       "                                                                               Taxon  \\\n",
       " Feature ID                                                                            \n",
       " bba114fa8ecf1399d60ae2868ce371d4  d__Bacteria; p__Firmicutes; c__Negativicutes; ...   \n",
       " d70918bdb1f2adac6b0b2e0d77a17ecf  d__Bacteria; p__Firmicutes; c__Negativicutes; ...   \n",
       " d605feb5d07be7e145e2e87d7f7710ea  d__Bacteria; p__Synergistota; c__Synergistia; ...   \n",
       " 03bb052674474c66386e7e1c33a0d3af  d__Bacteria; p__Firmicutes; c__Negativicutes; ...   \n",
       " 36cb66b957f4b86846bf3182e0c1dae2  d__Bacteria; p__Firmicutes; c__Negativicutes; ...   \n",
       " \n",
       "                                   Confidence  \n",
       " Feature ID                                    \n",
       " bba114fa8ecf1399d60ae2868ce371d4    0.955994  \n",
       " d70918bdb1f2adac6b0b2e0d77a17ecf    0.999991  \n",
       " d605feb5d07be7e145e2e87d7f7710ea    0.989035  \n",
       " 03bb052674474c66386e7e1c33a0d3af    0.985674  \n",
       " 36cb66b957f4b86846bf3182e0c1dae2    0.998972  )"
      ]
     },
     "execution_count": 7,
     "metadata": {},
     "output_type": "execute_result"
    }
   ],
   "source": [
    "base_dir = \"/home/dermot.kelly/Dermot_analysis/Phd/Paper_2/rumen_microbiome_pipeline/exported\"\n",
    "\n",
    "# Load feature counts\n",
    "feature_df = pd.read_csv(f\"{base_dir}/feature-table.tsv\", sep = '\\t', skiprows=1, index_col=0)\n",
    "\n",
    "# Load taxonomy annotations\n",
    "taxonomy_df = pd.read_csv(f\"{base_dir}/taxonomy.tsv\", sep=\"\\t\", index_col=0)\n",
    "\n",
    "feature_df.head(), taxonomy_df.head()"
   ]
  },
  {
   "cell_type": "code",
   "execution_count": 13,
   "id": "2ed0a6fb-df9b-4e3d-96b7-634ce07ee649",
   "metadata": {
    "collapsed": true,
    "jupyter": {
     "outputs_hidden": true
    },
    "scrolled": true
   },
   "outputs": [
    {
     "data": {
      "text/html": [
       "<div>\n",
       "<style scoped>\n",
       "    .dataframe tbody tr th:only-of-type {\n",
       "        vertical-align: middle;\n",
       "    }\n",
       "\n",
       "    .dataframe tbody tr th {\n",
       "        vertical-align: top;\n",
       "    }\n",
       "\n",
       "    .dataframe thead th {\n",
       "        text-align: right;\n",
       "    }\n",
       "</style>\n",
       "<table border=\"1\" class=\"dataframe\">\n",
       "  <thead>\n",
       "    <tr style=\"text-align: right;\">\n",
       "      <th></th>\n",
       "      <th>Taxon</th>\n",
       "      <th>Confidence</th>\n",
       "      <th>Domain</th>\n",
       "      <th>Phylum</th>\n",
       "      <th>Class</th>\n",
       "      <th>Order</th>\n",
       "      <th>Family</th>\n",
       "      <th>Genus</th>\n",
       "      <th>Species</th>\n",
       "    </tr>\n",
       "    <tr>\n",
       "      <th>Feature ID</th>\n",
       "      <th></th>\n",
       "      <th></th>\n",
       "      <th></th>\n",
       "      <th></th>\n",
       "      <th></th>\n",
       "      <th></th>\n",
       "      <th></th>\n",
       "      <th></th>\n",
       "      <th></th>\n",
       "    </tr>\n",
       "  </thead>\n",
       "  <tbody>\n",
       "    <tr>\n",
       "      <th>bba114fa8ecf1399d60ae2868ce371d4</th>\n",
       "      <td>d__Bacteria; p__Firmicutes; c__Negativicutes; ...</td>\n",
       "      <td>0.955994</td>\n",
       "      <td>Bacteria</td>\n",
       "      <td>Firmicutes</td>\n",
       "      <td>Negativicutes</td>\n",
       "      <td>Veillonellales-Selenomonadales</td>\n",
       "      <td>Veillonellaceae</td>\n",
       "      <td>Megasphaera</td>\n",
       "      <td>Megasphaera_stantonii</td>\n",
       "    </tr>\n",
       "    <tr>\n",
       "      <th>d70918bdb1f2adac6b0b2e0d77a17ecf</th>\n",
       "      <td>d__Bacteria; p__Firmicutes; c__Negativicutes; ...</td>\n",
       "      <td>0.999991</td>\n",
       "      <td>Bacteria</td>\n",
       "      <td>Firmicutes</td>\n",
       "      <td>Negativicutes</td>\n",
       "      <td>Veillonellales-Selenomonadales</td>\n",
       "      <td>Veillonellaceae</td>\n",
       "      <td>Veillonella</td>\n",
       "      <td>None</td>\n",
       "    </tr>\n",
       "    <tr>\n",
       "      <th>d605feb5d07be7e145e2e87d7f7710ea</th>\n",
       "      <td>d__Bacteria; p__Synergistota; c__Synergistia; ...</td>\n",
       "      <td>0.989035</td>\n",
       "      <td>Bacteria</td>\n",
       "      <td>Synergistota</td>\n",
       "      <td>Synergistia</td>\n",
       "      <td>Synergistales</td>\n",
       "      <td>Synergistaceae</td>\n",
       "      <td>Pyramidobacter</td>\n",
       "      <td>None</td>\n",
       "    </tr>\n",
       "    <tr>\n",
       "      <th>03bb052674474c66386e7e1c33a0d3af</th>\n",
       "      <td>d__Bacteria; p__Firmicutes; c__Negativicutes; ...</td>\n",
       "      <td>0.985674</td>\n",
       "      <td>Bacteria</td>\n",
       "      <td>Firmicutes</td>\n",
       "      <td>Negativicutes</td>\n",
       "      <td>Veillonellales-Selenomonadales</td>\n",
       "      <td>Veillonellaceae</td>\n",
       "      <td>Megasphaera</td>\n",
       "      <td>Megasphaera_hexanoica</td>\n",
       "    </tr>\n",
       "    <tr>\n",
       "      <th>36cb66b957f4b86846bf3182e0c1dae2</th>\n",
       "      <td>d__Bacteria; p__Firmicutes; c__Negativicutes; ...</td>\n",
       "      <td>0.998972</td>\n",
       "      <td>Bacteria</td>\n",
       "      <td>Firmicutes</td>\n",
       "      <td>Negativicutes</td>\n",
       "      <td>Veillonellales-Selenomonadales</td>\n",
       "      <td>Veillonellaceae</td>\n",
       "      <td>Megasphaera</td>\n",
       "      <td>Megasphaera_hexanoica</td>\n",
       "    </tr>\n",
       "  </tbody>\n",
       "</table>\n",
       "</div>"
      ],
      "text/plain": [
       "                                                                              Taxon  \\\n",
       "Feature ID                                                                            \n",
       "bba114fa8ecf1399d60ae2868ce371d4  d__Bacteria; p__Firmicutes; c__Negativicutes; ...   \n",
       "d70918bdb1f2adac6b0b2e0d77a17ecf  d__Bacteria; p__Firmicutes; c__Negativicutes; ...   \n",
       "d605feb5d07be7e145e2e87d7f7710ea  d__Bacteria; p__Synergistota; c__Synergistia; ...   \n",
       "03bb052674474c66386e7e1c33a0d3af  d__Bacteria; p__Firmicutes; c__Negativicutes; ...   \n",
       "36cb66b957f4b86846bf3182e0c1dae2  d__Bacteria; p__Firmicutes; c__Negativicutes; ...   \n",
       "\n",
       "                                  Confidence    Domain        Phylum  \\\n",
       "Feature ID                                                             \n",
       "bba114fa8ecf1399d60ae2868ce371d4    0.955994  Bacteria    Firmicutes   \n",
       "d70918bdb1f2adac6b0b2e0d77a17ecf    0.999991  Bacteria    Firmicutes   \n",
       "d605feb5d07be7e145e2e87d7f7710ea    0.989035  Bacteria  Synergistota   \n",
       "03bb052674474c66386e7e1c33a0d3af    0.985674  Bacteria    Firmicutes   \n",
       "36cb66b957f4b86846bf3182e0c1dae2    0.998972  Bacteria    Firmicutes   \n",
       "\n",
       "                                          Class  \\\n",
       "Feature ID                                        \n",
       "bba114fa8ecf1399d60ae2868ce371d4  Negativicutes   \n",
       "d70918bdb1f2adac6b0b2e0d77a17ecf  Negativicutes   \n",
       "d605feb5d07be7e145e2e87d7f7710ea    Synergistia   \n",
       "03bb052674474c66386e7e1c33a0d3af  Negativicutes   \n",
       "36cb66b957f4b86846bf3182e0c1dae2  Negativicutes   \n",
       "\n",
       "                                                           Order  \\\n",
       "Feature ID                                                         \n",
       "bba114fa8ecf1399d60ae2868ce371d4  Veillonellales-Selenomonadales   \n",
       "d70918bdb1f2adac6b0b2e0d77a17ecf  Veillonellales-Selenomonadales   \n",
       "d605feb5d07be7e145e2e87d7f7710ea                   Synergistales   \n",
       "03bb052674474c66386e7e1c33a0d3af  Veillonellales-Selenomonadales   \n",
       "36cb66b957f4b86846bf3182e0c1dae2  Veillonellales-Selenomonadales   \n",
       "\n",
       "                                           Family           Genus  \\\n",
       "Feature ID                                                          \n",
       "bba114fa8ecf1399d60ae2868ce371d4  Veillonellaceae     Megasphaera   \n",
       "d70918bdb1f2adac6b0b2e0d77a17ecf  Veillonellaceae     Veillonella   \n",
       "d605feb5d07be7e145e2e87d7f7710ea   Synergistaceae  Pyramidobacter   \n",
       "03bb052674474c66386e7e1c33a0d3af  Veillonellaceae     Megasphaera   \n",
       "36cb66b957f4b86846bf3182e0c1dae2  Veillonellaceae     Megasphaera   \n",
       "\n",
       "                                                Species  \n",
       "Feature ID                                               \n",
       "bba114fa8ecf1399d60ae2868ce371d4  Megasphaera_stantonii  \n",
       "d70918bdb1f2adac6b0b2e0d77a17ecf                   None  \n",
       "d605feb5d07be7e145e2e87d7f7710ea                   None  \n",
       "03bb052674474c66386e7e1c33a0d3af  Megasphaera_hexanoica  \n",
       "36cb66b957f4b86846bf3182e0c1dae2  Megasphaera_hexanoica  "
      ]
     },
     "execution_count": 13,
     "metadata": {},
     "output_type": "execute_result"
    }
   ],
   "source": [
    "taxonomy_df[['Domain', 'Phylum', 'Class', 'Order', 'Family', 'Genus', 'Species']] = (\n",
    "    taxonomy_df['Taxon'].str.split('; ', expand=True)\n",
    "    .replace({r'^[a-z]__': ''}, regex=True)  # remove prefixes\n",
    ")\n",
    "\n",
    "taxonomy_df.head()"
   ]
  },
  {
   "cell_type": "code",
   "execution_count": 18,
   "id": "e74e7f35-ead7-4c05-8841-e7f1d33d1df8",
   "metadata": {},
   "outputs": [],
   "source": [
    "taxonomy_df['Genus'] = taxonomy_df['Genus'].fillna('Unclassified')"
   ]
  },
  {
   "cell_type": "code",
   "execution_count": 22,
   "id": "5cd5a94f-bf4e-4527-9a9c-54dd27cb7fca",
   "metadata": {},
   "outputs": [
    {
     "data": {
      "text/plain": [
       "np.int64(0)"
      ]
     },
     "execution_count": 22,
     "metadata": {},
     "output_type": "execute_result"
    }
   ],
   "source": [
    "taxonomy_df['Genus'].describe()\n",
    "taxonomy_df[\"Genus\"].isna().sum()"
   ]
  },
  {
   "cell_type": "code",
   "execution_count": 28,
   "id": "5be8fc71-93d0-4367-af23-61423b52f223",
   "metadata": {},
   "outputs": [],
   "source": [
    "feature_with_genus = feature_df.join(taxonomy_df[\"Genus\"])\n",
    "\n",
    "genus_abundance = feature_with_genus.groupby(\"Genus\").sum().T"
   ]
  },
  {
   "cell_type": "code",
   "execution_count": 30,
   "id": "5da15168-f20a-4075-9f1f-657442063206",
   "metadata": {},
   "outputs": [
    {
     "data": {
      "text/html": [
       "<div>\n",
       "<style scoped>\n",
       "    .dataframe tbody tr th:only-of-type {\n",
       "        vertical-align: middle;\n",
       "    }\n",
       "\n",
       "    .dataframe tbody tr th {\n",
       "        vertical-align: top;\n",
       "    }\n",
       "\n",
       "    .dataframe thead th {\n",
       "        text-align: right;\n",
       "    }\n",
       "</style>\n",
       "<table border=\"1\" class=\"dataframe\">\n",
       "  <thead>\n",
       "    <tr style=\"text-align: right;\">\n",
       "      <th>Genus</th>\n",
       "      <th>Acidaminococcus</th>\n",
       "      <th>Acinetobacter</th>\n",
       "      <th>Actinomyces</th>\n",
       "      <th>Alistipes</th>\n",
       "      <th>Allisonella</th>\n",
       "      <th>Anaerovibrio</th>\n",
       "      <th>Bacillus</th>\n",
       "      <th>Bacteroides</th>\n",
       "      <th>Bifidobacterium</th>\n",
       "      <th>Butyricimonas</th>\n",
       "      <th>...</th>\n",
       "      <th>Streptococcus</th>\n",
       "      <th>Syntrophococcus</th>\n",
       "      <th>Treponema</th>\n",
       "      <th>Turicibacter</th>\n",
       "      <th>Unclassified</th>\n",
       "      <th>Veillonella</th>\n",
       "      <th>Weissella</th>\n",
       "      <th>[Eubacterium]_coprostanoligenes_group</th>\n",
       "      <th>[Ruminococcus]_gauvreauii_group</th>\n",
       "      <th>uncultured</th>\n",
       "    </tr>\n",
       "  </thead>\n",
       "  <tbody>\n",
       "    <tr>\n",
       "      <th>GoatKid01</th>\n",
       "      <td>0.44</td>\n",
       "      <td>0.01</td>\n",
       "      <td>0.06</td>\n",
       "      <td>0.01</td>\n",
       "      <td>0.02</td>\n",
       "      <td>0.03</td>\n",
       "      <td>0.04</td>\n",
       "      <td>0.3</td>\n",
       "      <td>0.19</td>\n",
       "      <td>0.01</td>\n",
       "      <td>...</td>\n",
       "      <td>0.03</td>\n",
       "      <td>0.28</td>\n",
       "      <td>0.01</td>\n",
       "      <td>0.01</td>\n",
       "      <td>11.21</td>\n",
       "      <td>0.04</td>\n",
       "      <td>0.03</td>\n",
       "      <td>0.07</td>\n",
       "      <td>0.13</td>\n",
       "      <td>0.05</td>\n",
       "    </tr>\n",
       "  </tbody>\n",
       "</table>\n",
       "<p>1 rows × 59 columns</p>\n",
       "</div>"
      ],
      "text/plain": [
       "Genus      Acidaminococcus  Acinetobacter  Actinomyces  Alistipes  \\\n",
       "GoatKid01             0.44           0.01         0.06       0.01   \n",
       "\n",
       "Genus      Allisonella  Anaerovibrio  Bacillus  Bacteroides  Bifidobacterium  \\\n",
       "GoatKid01         0.02          0.03      0.04          0.3             0.19   \n",
       "\n",
       "Genus      Butyricimonas  ...  Streptococcus  Syntrophococcus  Treponema  \\\n",
       "GoatKid01           0.01  ...           0.03             0.28       0.01   \n",
       "\n",
       "Genus      Turicibacter  Unclassified  Veillonella  Weissella  \\\n",
       "GoatKid01          0.01         11.21         0.04       0.03   \n",
       "\n",
       "Genus      [Eubacterium]_coprostanoligenes_group  \\\n",
       "GoatKid01                                   0.07   \n",
       "\n",
       "Genus      [Ruminococcus]_gauvreauii_group  uncultured  \n",
       "GoatKid01                             0.13        0.05  \n",
       "\n",
       "[1 rows x 59 columns]"
      ]
     },
     "execution_count": 30,
     "metadata": {},
     "output_type": "execute_result"
    }
   ],
   "source": [
    "genus_rel_abundance = genus_abundance.div(genus_abundance.sum(axis=1), axis=0)\n",
    "\n",
    "# Convert to percentages and round to 2 dp\n",
    "genus_rel_abundance = genus_rel_abundance * 100\n",
    "genus_rel_abundance = genus_rel_abundance.round(2)\n",
    "genus_rel_abundance.head()"
   ]
  },
  {
   "cell_type": "code",
   "execution_count": 33,
   "id": "b274fea2-3009-4641-8434-c5a2bbc40bc2",
   "metadata": {},
   "outputs": [
    {
     "data": {
      "image/png": "[encoded data removed]",
      "text/plain": [
       "<Figure size 800x600 with 1 Axes>"
      ]
     },
     "metadata": {},
     "output_type": "display_data"
    }
   ],
   "source": [
    "# Get top 10 genera by abundance (mean is redundant if only have one sample)\n",
    "top_n = 10\n",
    "top_genera = genus_rel_abundance.mean().sort_values(ascending=False).head(top_n).index\n",
    "\n",
    "# Subset top genera and add \"Other\"\n",
    "plot_df = genus_rel_abundance[top_genera].copy()\n",
    "plot_df[\"Other\"] = 100 - plot_df.sum(axis=1)\n",
    "\n",
    "# Plot\n",
    "plot_df.plot(kind='bar', stacked=True, figsize=(8, 6), colormap='tab20')\n",
    "plt.ylabel('Relative Abundance (%)')\n",
    "plt.xlabel('Sample')\n",
    "plt.title(f'Top {top_n} Genera in Goat Rumen Sample')\n",
    "plt.legend(title='Genus', bbox_to_anchor=(1.05, 1), loc='upper left')\n",
    "plt.tight_layout()\n",
    "plt.show()"
   ]
  },
  {
   "cell_type": "code",
   "execution_count": null,
   "id": "06c7a21f-3035-4f1b-accb-e1467ddb5bc6",
   "metadata": {},
   "outputs": [],
   "source": []
  }
 ],
 "metadata": {
  "kernelspec": {
   "display_name": "Python (dermo_python_env)",
   "language": "python",
   "name": "dermo_python_env"
  },
  "language_info": {
   "codemirror_mode": {
    "name": "ipython",
    "version": 3
   },
   "file_extension": ".py",
   "mimetype": "text/x-python",
   "name": "python",
   "nbconvert_exporter": "python",
   "pygments_lexer": "ipython3",
   "version": "3.10.16"
  }
 },
 "nbformat": 4,
 "nbformat_minor": 5
}
