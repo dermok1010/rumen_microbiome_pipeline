{
 "cells": [
  {
   "cell_type": "code",
   "execution_count": 1,
   "id": "4193ec52-d406-4e76-9f5f-9a62a1ec6bc4",
   "metadata": {},
   "outputs": [
    {
     "name": "stdout",
     "output_type": "stream",
     "text": [
      "Requirement already satisfied: numpy in /data/Genetics/analysis/R1681_OviSeq/Dermot/envs/dermo_python_env/lib/python3.10/site-packages (2.2.5)\n",
      "Collecting scipy\n",
      "  Downloading scipy-1.15.2-cp310-cp310-manylinux_2_17_x86_64.manylinux2014_x86_64.whl.metadata (61 kB)\n",
      "Downloading scipy-1.15.2-cp310-cp310-manylinux_2_17_x86_64.manylinux2014_x86_64.whl (37.6 MB)\n",
      "\u001b[2K   \u001b[90m━━━━━━━━━━━━━━━━━━━━━━━━━━━━━━━━━━━━━━━━\u001b[0m \u001b[32m37.6/37.6 MB\u001b[0m \u001b[31m6.6 MB/s\u001b[0m eta \u001b[36m0:00:00\u001b[0m00:01\u001b[0m00:01\u001b[0m\n",
      "Installing collected packages: scipy\n",
      "Successfully installed scipy-1.15.2\n"
     ]
    }
   ],
   "source": [
    "!pip install numpy scipy"
   ]
  },
  {
   "cell_type": "code",
   "execution_count": null,
   "id": "7f61b6c8-89d5-488d-a09e-be2faf44e7c5",
   "metadata": {},
   "outputs": [],
   "source": [
    "import pandas as pd\n",
    "import numpy as np\n",
    "from scipy.stats import entropy"
   ]
  },
  {
   "cell_type": "code",
   "execution_count": null,
   "id": "ce3ef00a-4aa6-4901-88cb-c45fdd823b73",
   "metadata": {},
   "outputs": [],
   "source": [
    "# Load the abundance data\n",
    "csv_path = \"/home/dermot.kelly/Dermot_analysis/Phd/Paper_2/rumen_microbiome_pipeline/exported/genus_relative_abundance.csv\"\n",
    "genus_rel_abundance = pd.read_csv(csv_path, index_col=0)\n",
    "\n",
    "# Extract abundances\n",
    "abundances = genus_rel_abundance.iloc[0].values\n",
    "\n",
    "# filter out zeros\n",
    "abundances = abundances[abundances >0]\n",
    "\n",
    "# Calculate diversity metrics\n",
    "\n",
    "# Richness\n",
    "richness = len(abundances)\n",
    "\n"
   ]
  }
 ],
 "metadata": {
  "kernelspec": {
   "display_name": "Python (dermo_python_env)",
   "language": "python",
   "name": "dermo_python_env"
  },
  "language_info": {
   "codemirror_mode": {
    "name": "ipython",
    "version": 3
   },
   "file_extension": ".py",
   "mimetype": "text/x-python",
   "name": "python",
   "nbconvert_exporter": "python",
   "pygments_lexer": "ipython3",
   "version": "3.10.16"
  }
 },
 "nbformat": 4,
 "nbformat_minor": 5
}
